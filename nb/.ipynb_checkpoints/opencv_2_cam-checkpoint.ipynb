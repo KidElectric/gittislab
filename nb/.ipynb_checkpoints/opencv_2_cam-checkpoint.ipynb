{
 "cells": [
  {
   "cell_type": "code",
   "execution_count": 1,
   "id": "b77e17fc",
   "metadata": {},
   "outputs": [],
   "source": [
    "#from matplotlib import pyplot as plt\n",
    "from imutils.video import VideoStream\n",
    "import argparse\n",
    "import datetime\n",
    "import imutils\n",
    "import time\n",
    "import cv2\n"
   ]
  },
  {
   "cell_type": "markdown",
   "id": "1372c99a",
   "metadata": {},
   "source": [
    "# One camera version:"
   ]
  },
  {
   "cell_type": "code",
   "execution_count": 2,
   "id": "b3f44208",
   "metadata": {},
   "outputs": [
    {
     "ename": "TypeError",
     "evalue": "must be real number, not tuple",
     "output_type": "error",
     "traceback": [
      "\u001b[0;31m---------------------------------------------------------------------------\u001b[0m",
      "\u001b[0;31mTypeError\u001b[0m                                 Traceback (most recent call last)",
      "\u001b[0;32m<ipython-input-2-df090ceb34b3>\u001b[0m in \u001b[0;36m<module>\u001b[0;34m\u001b[0m\n\u001b[1;32m     20\u001b[0m \u001b[0;31m#filename = 'C:\\\\Users\\\\Brian\\\\Videos\\\\dual_cam\\\\test_gray.mp4'\u001b[0m\u001b[0;34m\u001b[0m\u001b[0;34m\u001b[0m\u001b[0;34m\u001b[0m\u001b[0m\n\u001b[1;32m     21\u001b[0m \u001b[0mfilename\u001b[0m \u001b[0;34m=\u001b[0m \u001b[0;34m'/home/brian/Videos/one_cam_dlc/test.mp4'\u001b[0m\u001b[0;34m\u001b[0m\u001b[0;34m\u001b[0m\u001b[0m\n\u001b[0;32m---> 22\u001b[0;31m \u001b[0mout\u001b[0m \u001b[0;34m=\u001b[0m \u001b[0mcv2\u001b[0m\u001b[0;34m.\u001b[0m\u001b[0mVideoWriter\u001b[0m\u001b[0;34m(\u001b[0m\u001b[0mfilename\u001b[0m\u001b[0;34m,\u001b[0m \u001b[0mfourcc\u001b[0m\u001b[0;34m,\u001b[0m \u001b[0mfps\u001b[0m\u001b[0;34m,\u001b[0m \u001b[0;34m(\u001b[0m\u001b[0mwidth\u001b[0m\u001b[0;34m,\u001b[0m \u001b[0mheight\u001b[0m\u001b[0;34m)\u001b[0m\u001b[0;34m,\u001b[0m\u001b[0mchannels\u001b[0m\u001b[0;34m)\u001b[0m\u001b[0;34m\u001b[0m\u001b[0;34m\u001b[0m\u001b[0m\n\u001b[0m\u001b[1;32m     23\u001b[0m \u001b[0;34m\u001b[0m\u001b[0m\n\u001b[1;32m     24\u001b[0m \u001b[0;31m# loop over the frames of the video\u001b[0m\u001b[0;34m\u001b[0m\u001b[0;34m\u001b[0m\u001b[0;34m\u001b[0m\u001b[0m\n",
      "\u001b[0;31mTypeError\u001b[0m: must be real number, not tuple"
     ]
    }
   ],
   "source": [
    "# if the video argument is None, then we are reading from webcam\n",
    "# if args.get(\"video\", None) is None\n",
    "vs0 = VideoStream(src=0).start()\n",
    "\n",
    "\n",
    "#time.sleep(1.0)\n",
    "\n",
    "# initialize the first frame in the video stream\n",
    "firstFrame = None\n",
    "grayscale = True\n",
    "height = 480\n",
    "width = 1280 / 2\n",
    "if grayscale ==True:\n",
    "    channels = 0\n",
    "else:\n",
    "    channels = 3\n",
    "fps = 60\n",
    "\n",
    "fourcc = cv2.VideoWriter_fourcc(*'mp4v')\n",
    "#filename = 'C:\\\\Users\\\\Brian\\\\Videos\\\\dual_cam\\\\test_gray.mp4'\n",
    "filename = '/home/brian/Videos/one_cam_dlc/test.mp4'\n",
    "out = cv2.VideoWriter(filename, fourcc, fps, (width, height),channels)\n",
    "\n",
    "# loop over the frames of the video\n",
    "while True:\n",
    "    frame0 = vs0.read()\n",
    "    #frame1 = vs1.read()\n",
    "    \n",
    "    if (frame0 is None):\n",
    "        break\n",
    "    combo=cv2.flip(frame0,flipCode=0)\n",
    "    if grayscale:\n",
    "        combo = cv2.cvtColor(combo, cv2.COLOR_BGR2GRAY)\n",
    "   \n",
    "    #cv2.imshow(\"Camera 0 & 1\", combo)\n",
    "    plt.imshow(combo)\n",
    "    out.write(combo)\n",
    "    key = cv2.waitKey(1) & 0xFF\n",
    "\n",
    "    if key == ord(\"q\"):\n",
    "        break\n",
    "\n",
    "# cleanup the camera and close any open windows\n",
    "vs0.stop()\n",
    "out and out.release()\n",
    "cv2.destroyAllWindows()"
   ]
  },
  {
   "cell_type": "code",
   "execution_count": 3,
   "id": "e86cd008",
   "metadata": {},
   "outputs": [],
   "source": [
    "vs0.stop()"
   ]
  },
  {
   "cell_type": "code",
   "execution_count": 40,
   "id": "724d8ccb",
   "metadata": {},
   "outputs": [],
   "source": [
    "# if the video argument is None, then we are reading from webcam\n",
    "# if args.get(\"video\", None) is None\n",
    "vs0 = VideoStream(src=0).start()\n",
    "vs1 = VideoStream(src=1).start()\n",
    "\n",
    "#time.sleep(1.0)\n",
    "\n",
    "# initialize the first frame in the video stream\n",
    "firstFrame = None\n",
    "grayscale = True\n",
    "height = 480\n",
    "width = 1280\n",
    "if grayscale ==True:\n",
    "    channels = 0\n",
    "else:\n",
    "    channels = 3\n",
    "fps = 60\n",
    "\n",
    "fourcc = cv2.VideoWriter_fourcc(*'mp4v')\n",
    "filename = 'C:\\\\Users\\\\Brian\\\\Videos\\\\dual_cam\\\\test_gray.mp4'\n",
    "out = cv2.VideoWriter(filename, fourcc, fps, (width, height),channels)\n",
    "\n",
    "# loop over the frames of the video\n",
    "while True:\n",
    "    frame0 = vs0.read()\n",
    "    frame1 = vs1.read()\n",
    "    \n",
    "    if (frame0 is None) or (frame1 is None):\n",
    "        break\n",
    "    combo= cv2.hconcat([cv2.flip(frame0,flipCode=0), cv2.flip(frame1,flipCode=0)])\n",
    "    if grayscale:\n",
    "        combo = cv2.cvtColor(combo, cv2.COLOR_BGR2GRAY)\n",
    "   \n",
    "    cv2.imshow(\"Camera 0 & 1\", combo)\n",
    "    \n",
    "    out.write(combo)\n",
    "    key = cv2.waitKey(1) & 0xFF\n",
    "\n",
    "    if key == ord(\"q\"):\n",
    "        break\n",
    "\n",
    "# cleanup the camera and close any open windows\n",
    "vs0.stop()\n",
    "vs1.stop()\n",
    "out and out.release()\n",
    "cv2.destroyAllWindows()"
   ]
  },
  {
   "cell_type": "code",
   "execution_count": 31,
   "id": "04409d26",
   "metadata": {},
   "outputs": [],
   "source": [
    "vs.stop()\n",
    "out and out.release()\n",
    "cv2.destroyAllWindows()"
   ]
  },
  {
   "cell_type": "code",
   "execution_count": 36,
   "id": "d7f1507b",
   "metadata": {},
   "outputs": [
    {
     "data": {
      "text/plain": [
       "(480, 1280)"
      ]
     },
     "execution_count": 36,
     "metadata": {},
     "output_type": "execute_result"
    }
   ],
   "source": [
    "combo.shape"
   ]
  }
 ],
 "metadata": {
  "kernelspec": {
   "display_name": "Python 3",
   "language": "python",
   "name": "python3"
  },
  "language_info": {
   "codemirror_mode": {
    "name": "ipython",
    "version": 3
   },
   "file_extension": ".py",
   "mimetype": "text/x-python",
   "name": "python",
   "nbconvert_exporter": "python",
   "pygments_lexer": "ipython3",
   "version": "3.7.7"
  }
 },
 "nbformat": 4,
 "nbformat_minor": 5
}
