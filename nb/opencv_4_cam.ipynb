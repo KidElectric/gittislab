{
 "cells": [
  {
   "cell_type": "code",
   "execution_count": 5,
   "id": "b77e17fc",
   "metadata": {},
   "outputs": [],
   "source": [
    "#from matplotlib import pyplot as plt\n",
    "from imutils.video import VideoStream\n",
    "import argparse\n",
    "import datetime\n",
    "import imutils\n",
    "import time\n",
    "import cv2\n"
   ]
  },
  {
   "cell_type": "markdown",
   "id": "dc902b2a",
   "metadata": {},
   "source": [
    "# 4 camera version"
   ]
  },
  {
   "cell_type": "code",
   "execution_count": 38,
   "id": "7a5668ea",
   "metadata": {},
   "outputs": [],
   "source": [
    "# if the video argument is None, then we are reading from webcam\n",
    "# if args.get(\"video\", None) is None\n",
    "video_group=[VideoStream(src=0).start(),\n",
    "             VideoStream(src=1).start(),\n",
    "             VideoStream(src=2).start(),\n",
    "             VideoStream(src=3).start()]\n",
    "\n",
    "#time.sleep(1.0)\n",
    "\n",
    "# initialize the first frame in the video stream\n",
    "firstFrame = None\n",
    "grayscale = True\n",
    "height = 480\n",
    "width = 1280\n",
    "if grayscale ==True:\n",
    "    channels = 0\n",
    "else:\n",
    "    channels = 3\n",
    "fps = 60\n",
    "\n",
    "save = True\n",
    "start_save = False\n",
    "if save:\n",
    "    fourcc = cv2.VideoWriter_fourcc(*'mp4v')\n",
    "    filename = r'H:\\My Drive\\PSN_bootcamp_2021\\final_data\\team_scissors\\ds_1v1_1.mp4' # close \n",
    "    out = cv2.VideoWriter(filename, fourcc, fps, (width, height),channels)\n",
    "    filename = r'H:\\My Drive\\PSN_bootcamp_2021\\final_data\\team_scissors\\ym_1v1_1.mp4' # far \n",
    "    out1 = cv2.VideoWriter(filename, fourcc, fps, (width, height),channels)\n",
    "    \n",
    "# loop over the frames of the video\n",
    "player_1=[1,0] #Near player\n",
    "player_2=[3,2] #Far player\n",
    "\n",
    "frames=[0,1,2,3]\n",
    "save_str='Not saving.'\n",
    "while True:\n",
    "    \n",
    "    for i,vs in enumerate(video_group):\n",
    "        frames[i] = vs.read()\n",
    "\n",
    "    if (frames[0] is None) or (frames[1] is None) or (frames[2] is None) or (frames[3] is None):\n",
    "        print('Frame dropped, video streams closed.')\n",
    "        break\n",
    "    \n",
    "    combo = cv2.hconcat([cv2.flip(frames[player_1[0]],flipCode=0), \n",
    "                         cv2.flip(frames[player_1[1]],flipCode=0)])\n",
    "    combo1 = cv2.hconcat([cv2.flip(frames[player_2[0]],flipCode=1),\n",
    "                          cv2.flip(frames[player_2[1]],flipCode=-1)])\n",
    "    \n",
    "    if grayscale:\n",
    "        combo = cv2.cvtColor(combo, cv2.COLOR_BGR2GRAY)\n",
    "        combo1 = cv2.cvtColor(combo1, cv2.COLOR_BGR2GRAY)\n",
    "    \n",
    "    cv2.imshow(\"Camera %d & %d: %s\" % (player_1[0],player_1[1],save_str), combo,)\n",
    "    cv2.imshow(\"Camera %d & %d: %s\" % (player_2[0],player_2[1],save_str), combo1,)\n",
    "    if start_save:\n",
    "        out.write(combo)\n",
    "        out1.write(combo1)\n",
    "    key = cv2.waitKey(1) & 0xFF\n",
    "\n",
    "    if key == ord(\"q\"):\n",
    "        break\n",
    "    \n",
    "    if key == ord(\"s\"):\n",
    "        start_save = True\n",
    "        save_str='Saving!'\n",
    "\n",
    "# cleanup the camera and close any open windows:\n",
    "for vs in video_group:\n",
    "    vs.stop()\n",
    "\n",
    "if save:\n",
    "    out and out.release()\n",
    "    out1 and out1.release()\n",
    "    \n",
    "cv2.destroyAllWindows()"
   ]
  },
  {
   "cell_type": "raw",
   "id": "d87a88a4",
   "metadata": {},
   "source": []
  },
  {
   "cell_type": "code",
   "execution_count": 4,
   "id": "3aa64b44",
   "metadata": {},
   "outputs": [],
   "source": [
    "for vs in video_group:\n",
    "    vs.stop()\n",
    "cv2.destroyAllWindows()"
   ]
  }
 ],
 "metadata": {
  "kernelspec": {
   "display_name": "Python 3",
   "language": "python",
   "name": "python3"
  },
  "language_info": {
   "codemirror_mode": {
    "name": "ipython",
    "version": 3
   },
   "file_extension": ".py",
   "mimetype": "text/x-python",
   "name": "python",
   "nbconvert_exporter": "python",
   "pygments_lexer": "ipython3",
   "version": "3.9.2"
  }
 },
 "nbformat": 4,
 "nbformat_minor": 5
}
