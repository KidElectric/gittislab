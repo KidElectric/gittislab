{
 "cells": [
  {
   "cell_type": "code",
   "execution_count": 1,
   "id": "b77e17fc",
   "metadata": {},
   "outputs": [],
   "source": [
    "#from matplotlib import pyplot as plt\n",
    "from imutils.video import VideoStream\n",
    "import argparse\n",
    "import datetime\n",
    "import imutils\n",
    "import time\n",
    "import cv2\n"
   ]
  },
  {
   "cell_type": "markdown",
   "id": "c12217f5",
   "metadata": {},
   "source": [
    "# One camera version:"
   ]
  },
  {
   "cell_type": "code",
   "execution_count": 3,
   "id": "b3f44208",
   "metadata": {},
   "outputs": [
    {
     "ename": "error",
     "evalue": "OpenCV(3.4.2) /tmp/build/80754af9/opencv-suite_1535558553474/work/modules/highgui/src/window.cpp:626: error: (-2:Unspecified error) The function is not implemented. Rebuild the library with Windows, GTK+ 2.x or Carbon support. If you are on Ubuntu or Debian, install libgtk2.0-dev and pkg-config, then re-run cmake or configure script in function 'cvDestroyAllWindows'\n",
     "output_type": "error",
     "traceback": [
      "\u001b[0;31m---------------------------------------------------------------------------\u001b[0m",
      "\u001b[0;31merror\u001b[0m                                     Traceback (most recent call last)",
      "\u001b[0;32m<ipython-input-3-9725a3de8bcf>\u001b[0m in \u001b[0;36m<module>\u001b[0;34m\u001b[0m\n\u001b[1;32m     44\u001b[0m \u001b[0mvs0\u001b[0m\u001b[0;34m.\u001b[0m\u001b[0mstop\u001b[0m\u001b[0;34m(\u001b[0m\u001b[0;34m)\u001b[0m\u001b[0;34m\u001b[0m\u001b[0;34m\u001b[0m\u001b[0m\n\u001b[1;32m     45\u001b[0m \u001b[0mout\u001b[0m \u001b[0;32mand\u001b[0m \u001b[0mout\u001b[0m\u001b[0;34m.\u001b[0m\u001b[0mrelease\u001b[0m\u001b[0;34m(\u001b[0m\u001b[0;34m)\u001b[0m\u001b[0;34m\u001b[0m\u001b[0;34m\u001b[0m\u001b[0m\n\u001b[0;32m---> 46\u001b[0;31m \u001b[0mcv2\u001b[0m\u001b[0;34m.\u001b[0m\u001b[0mdestroyAllWindows\u001b[0m\u001b[0;34m(\u001b[0m\u001b[0;34m)\u001b[0m\u001b[0;34m\u001b[0m\u001b[0;34m\u001b[0m\u001b[0m\n\u001b[0m",
      "\u001b[0;31merror\u001b[0m: OpenCV(3.4.2) /tmp/build/80754af9/opencv-suite_1535558553474/work/modules/highgui/src/window.cpp:626: error: (-2:Unspecified error) The function is not implemented. Rebuild the library with Windows, GTK+ 2.x or Carbon support. If you are on Ubuntu or Debian, install libgtk2.0-dev and pkg-config, then re-run cmake or configure script in function 'cvDestroyAllWindows'\n"
     ]
    }
   ],
   "source": [
    "# if the video argument is None, then we are reading from webcam\n",
    "# if args.get(\"video\", None) is None\n",
    "vs0 = VideoStream(src=0).start()\n",
    "\n",
    "\n",
    "#time.sleep(1.0)\n",
    "\n",
    "# initialize the first frame in the video stream\n",
    "firstFrame = None\n",
    "grayscale = True\n",
    "height = 480\n",
    "width = 640\n",
    "if grayscale ==True:\n",
    "    channels = 0\n",
    "else:\n",
    "    channels = 3\n",
    "fps = 60\n",
    "\n",
    "fourcc = cv2.VideoWriter_fourcc(*'mp4v')\n",
    "#filename = 'C:\\\\Users\\\\Brian\\\\Videos\\\\dual_cam\\\\test_gray.mp4'\n",
    "filename = '/home/brian/Videos/one_cam_dlc/test.mp4'\n",
    "out = cv2.VideoWriter(filename, fourcc, fps, (width, height),channels)\n",
    "\n",
    "# loop over the frames of the video\n",
    "while True:\n",
    "    frame0 = vs0.read()\n",
    "    #frame1 = vs1.read()\n",
    "    \n",
    "    if (frame0 is None):\n",
    "        break\n",
    "    combo=cv2.flip(frame0,flipCode=0)\n",
    "    if grayscale:\n",
    "        combo = cv2.cvtColor(combo, cv2.COLOR_BGR2GRAY)\n",
    "   \n",
    "    #cv2.imshow(\"Camera 0 & 1\", combo)\n",
    "    plt.imshow(combo)\n",
    "    out.write(combo)\n",
    "    key = cv2.waitKey(1) & 0xFF\n",
    "\n",
    "    if key == ord(\"q\"):\n",
    "        break\n",
    "\n",
    "# cleanup the camera and close any open windows\n",
    "vs0.stop()\n",
    "out and out.release()\n",
    "cv2.destroyAllWindows()"
   ]
  },
  {
   "cell_type": "code",
   "execution_count": 6,
   "id": "de804644",
   "metadata": {},
   "outputs": [],
   "source": [
    "vs0 = VideoStream(src=0).start()\n",
    "time.sleep(1.0)\n",
    "vs0.stop()\n",
    "out.release()"
   ]
  },
  {
   "cell_type": "code",
   "execution_count": 61,
   "id": "724d8ccb",
   "metadata": {},
   "outputs": [],
   "source": [
    "# if the video argument is None, then we are reading from webcam\n",
    "# if args.get(\"video\", None) is None\n",
    "vs0 = VideoStream(src=0).start()\n",
    "vs1 = VideoStream(src=1).start()\n",
    "\n",
    "#time.sleep(1.0)\n",
    "\n",
    "# initialize the first frame in the video stream\n",
    "firstFrame = None\n",
    "grayscale = True\n",
    "height = 480\n",
    "width = 1280\n",
    "if grayscale ==True:\n",
    "    channels = 0\n",
    "else:\n",
    "    channels = 3\n",
    "fps = 60\n",
    "\n",
    "fourcc = cv2.VideoWriter_fourcc(*'mp4v')\n",
    "filename = 'C:\\\\Users\\\\Brian\\\\Videos\\\\dual_cam\\\\brian_left.mp4'\n",
    "out = cv2.VideoWriter(filename, fourcc, fps, (width, height),channels)\n",
    "\n",
    "# loop over the frames of the video\n",
    "while True:\n",
    "    frame0 = vs0.read()\n",
    "    frame1 = vs1.read()\n",
    "    \n",
    "    if (frame0 is None) or (frame1 is None):\n",
    "        break\n",
    "    combo= cv2.hconcat([cv2.flip(frame0,flipCode=0), cv2.flip(frame1,flipCode=0)])\n",
    "    if grayscale:\n",
    "        combo = cv2.cvtColor(combo, cv2.COLOR_BGR2GRAY)\n",
    "   \n",
    "    cv2.imshow(\"Camera 0 & 1\", combo)\n",
    "    \n",
    "    out.write(combo)\n",
    "    key = cv2.waitKey(1) & 0xFF\n",
    "\n",
    "    if key == ord(\"q\"):\n",
    "        break\n",
    "\n",
    "# cleanup the camera and close any open windows\n",
    "vs0.stop()\n",
    "vs1.stop()\n",
    "out and out.release()\n",
    "cv2.destroyAllWindows()"
   ]
  },
  {
   "cell_type": "code",
   "execution_count": 13,
   "id": "04409d26",
   "metadata": {},
   "outputs": [],
   "source": [
    "vs0 = VideoStream(src=0).start()\n",
    "vs0.stop()\n",
    "#out and out.release()\n",
    "#cv2.destroyAllWindows()"
   ]
  },
  {
   "cell_type": "code",
   "execution_count": 36,
   "id": "d7f1507b",
   "metadata": {},
   "outputs": [
    {
     "data": {
      "text/plain": [
       "(480, 1280)"
      ]
     },
     "execution_count": 36,
     "metadata": {},
     "output_type": "execute_result"
    }
   ],
   "source": [
    "combo.shape"
   ]
  }
 ],
 "metadata": {
  "kernelspec": {
   "display_name": "Python 3",
   "language": "python",
   "name": "python3"
  },
  "language_info": {
   "codemirror_mode": {
    "name": "ipython",
    "version": 3
   },
   "file_extension": ".py",
   "mimetype": "text/x-python",
   "name": "python",
   "nbconvert_exporter": "python",
   "pygments_lexer": "ipython3",
   "version": "3.7.7"
  }
 },
 "nbformat": 4,
 "nbformat_minor": 5
}
