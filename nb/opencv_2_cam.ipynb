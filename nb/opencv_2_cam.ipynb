{
 "cells": [
  {
   "cell_type": "code",
   "execution_count": 1,
   "id": "b77e17fc",
   "metadata": {},
   "outputs": [],
   "source": [
    "#from matplotlib import pyplot as plt\n",
    "from imutils.video import VideoStream\n",
    "import argparse\n",
    "import datetime\n",
    "import imutils\n",
    "import time\n",
    "import cv2\n"
   ]
  },
  {
   "cell_type": "markdown",
   "id": "c12217f5",
   "metadata": {},
   "source": [
    "# One camera version:"
   ]
  },
  {
   "cell_type": "code",
   "execution_count": 2,
   "id": "b3f44208",
   "metadata": {},
   "outputs": [
    {
     "ename": "NameError",
     "evalue": "name 'plt' is not defined",
     "output_type": "error",
     "traceback": [
      "\u001b[1;31m---------------------------------------------------------------------------\u001b[0m",
      "\u001b[1;31mNameError\u001b[0m                                 Traceback (most recent call last)",
      "\u001b[1;32m<ipython-input-2-9725a3de8bcf>\u001b[0m in \u001b[0;36m<module>\u001b[1;34m\u001b[0m\n\u001b[0;32m     34\u001b[0m \u001b[1;33m\u001b[0m\u001b[0m\n\u001b[0;32m     35\u001b[0m     \u001b[1;31m#cv2.imshow(\"Camera 0 & 1\", combo)\u001b[0m\u001b[1;33m\u001b[0m\u001b[1;33m\u001b[0m\u001b[1;33m\u001b[0m\u001b[0m\n\u001b[1;32m---> 36\u001b[1;33m     \u001b[0mplt\u001b[0m\u001b[1;33m.\u001b[0m\u001b[0mimshow\u001b[0m\u001b[1;33m(\u001b[0m\u001b[0mcombo\u001b[0m\u001b[1;33m)\u001b[0m\u001b[1;33m\u001b[0m\u001b[1;33m\u001b[0m\u001b[0m\n\u001b[0m\u001b[0;32m     37\u001b[0m     \u001b[0mout\u001b[0m\u001b[1;33m.\u001b[0m\u001b[0mwrite\u001b[0m\u001b[1;33m(\u001b[0m\u001b[0mcombo\u001b[0m\u001b[1;33m)\u001b[0m\u001b[1;33m\u001b[0m\u001b[1;33m\u001b[0m\u001b[0m\n\u001b[0;32m     38\u001b[0m     \u001b[0mkey\u001b[0m \u001b[1;33m=\u001b[0m \u001b[0mcv2\u001b[0m\u001b[1;33m.\u001b[0m\u001b[0mwaitKey\u001b[0m\u001b[1;33m(\u001b[0m\u001b[1;36m1\u001b[0m\u001b[1;33m)\u001b[0m \u001b[1;33m&\u001b[0m \u001b[1;36m0xFF\u001b[0m\u001b[1;33m\u001b[0m\u001b[1;33m\u001b[0m\u001b[0m\n",
      "\u001b[1;31mNameError\u001b[0m: name 'plt' is not defined"
     ]
    }
   ],
   "source": [
    "# if the video argument is None, then we are reading from webcam\n",
    "# if args.get(\"video\", None) is None\n",
    "vs0 = VideoStream(src=0).start()\n",
    "\n",
    "\n",
    "#time.sleep(1.0)\n",
    "\n",
    "# initialize the first frame in the video stream\n",
    "firstFrame = None\n",
    "grayscale = True\n",
    "height = 480\n",
    "width = 640\n",
    "if grayscale ==True:\n",
    "    channels = 0\n",
    "else:\n",
    "    channels = 3\n",
    "fps = 60\n",
    "\n",
    "fourcc = cv2.VideoWriter_fourcc(*'mp4v')\n",
    "#filename = 'C:\\\\Users\\\\Brian\\\\Videos\\\\dual_cam\\\\test_gray.mp4'\n",
    "filename = '/home/brian/Videos/one_cam_dlc/test.mp4'\n",
    "out = cv2.VideoWriter(filename, fourcc, fps, (width, height),channels)\n",
    "\n",
    "# loop over the frames of the video\n",
    "while True:\n",
    "    frame0 = vs0.read()\n",
    "    #frame1 = vs1.read()\n",
    "    \n",
    "    if (frame0 is None):\n",
    "        break\n",
    "    combo=cv2.flip(frame0,flipCode=0)\n",
    "    if grayscale:\n",
    "        combo = cv2.cvtColor(combo, cv2.COLOR_BGR2GRAY)\n",
    "   \n",
    "    #cv2.imshow(\"Camera 0 & 1\", combo)\n",
    "    plt.imshow(combo)\n",
    "    out.write(combo)\n",
    "    key = cv2.waitKey(1) & 0xFF\n",
    "\n",
    "    if key == ord(\"q\"):\n",
    "        break\n",
    "\n",
    "# cleanup the camera and close any open windows\n",
    "vs0.stop()\n",
    "out and out.release()\n",
    "cv2.destroyAllWindows()"
   ]
  },
  {
   "cell_type": "code",
   "execution_count": 4,
   "id": "de804644",
   "metadata": {},
   "outputs": [],
   "source": [
    "vs0 = VideoStream(src=0).start()\n",
    "time.sleep(1.0)\n",
    "vs0.stop()\n",
    "out.release()"
   ]
  },
  {
   "cell_type": "markdown",
   "id": "88642cf8",
   "metadata": {},
   "source": [
    "# 2 camera version"
   ]
  },
  {
   "cell_type": "code",
   "execution_count": 7,
   "id": "724d8ccb",
   "metadata": {},
   "outputs": [],
   "source": [
    "# if the video argument is None, then we are reading from webcam\n",
    "# if args.get(\"video\", None) is None\n",
    "vs0 = VideoStream(src=0).start()\n",
    "vs1 = VideoStream(src=1).start()\n",
    "\n",
    "#time.sleep(1.0)\n",
    "\n",
    "# initialize the first frame in the video stream\n",
    "firstFrame = None\n",
    "grayscale = True\n",
    "height = 480\n",
    "width = 1280\n",
    "if grayscale ==True:\n",
    "    channels = 0\n",
    "else:\n",
    "    channels = 3\n",
    "fps = 60\n",
    "\n",
    "fourcc = cv2.VideoWriter_fourcc(*'mp4v')\n",
    "filename = 'C:\\\\Users\\\\Brian\\\\Videos\\\\dual_cam\\\\kat_left_2.mp4'\n",
    "# out = cv2.VideoWriter(filename, fourcc, fps, (width, height),channels)\n",
    "\n",
    "# loop over the frames of the video\n",
    "while True:\n",
    "    frame0 = vs0.read()\n",
    "    frame1 = vs1.read()\n",
    "    \n",
    "    if (frame0 is None) or (frame1 is None):\n",
    "        break\n",
    "    \n",
    "    combo= cv2.hconcat([cv2.flip(frame1,flipCode=0), cv2.flip(frame0,flipCode=0)])\n",
    "    if grayscale:\n",
    "        combo = cv2.cvtColor(combo, cv2.COLOR_BGR2GRAY)\n",
    "   \n",
    "    cv2.imshow(\"Camera 0 & 1\", combo)\n",
    "    \n",
    "#     out.write(combo)\n",
    "    key = cv2.waitKey(1) & 0xFF\n",
    "\n",
    "    if key == ord(\"q\"):\n",
    "        break\n",
    "\n",
    "# cleanup the camera and close any open windows\n",
    "vs0.stop()\n",
    "vs1.stop()\n",
    "out and out.release()\n",
    "cv2.destroyAllWindows()"
   ]
  },
  {
   "cell_type": "code",
   "execution_count": 13,
   "id": "04409d26",
   "metadata": {},
   "outputs": [],
   "source": [
    "vs0 = VideoStream(src=0).start()\n",
    "vs0.stop()\n",
    "#out and out.release()\n",
    "#cv2.destroyAllWindows()"
   ]
  },
  {
   "cell_type": "markdown",
   "id": "dc902b2a",
   "metadata": {},
   "source": [
    "# 4 camera version (?)"
   ]
  },
  {
   "cell_type": "code",
   "execution_count": 18,
   "id": "7a5668ea",
   "metadata": {},
   "outputs": [],
   "source": [
    "# if the video argument is None, then we are reading from webcam\n",
    "# if args.get(\"video\", None) is None\n",
    "vs0 = VideoStream(src=0).start()\n",
    "vs1 = VideoStream(src=1).start()\n",
    "vs2 = VideoStream(src=2).start()\n",
    "vs3 = VideoStream(src=3).start()\n",
    "#time.sleep(1.0)\n",
    "\n",
    "# initialize the first frame in the video stream\n",
    "firstFrame = None\n",
    "grayscale = True\n",
    "height = 480\n",
    "width = 1280\n",
    "if grayscale ==True:\n",
    "    channels = 0\n",
    "else:\n",
    "    channels = 3\n",
    "fps = 60\n",
    "\n",
    "fourcc = cv2.VideoWriter_fourcc(*'mp4v')\n",
    "filename = 'C:\\\\Users\\\\Brian\\\\Videos\\\\dual_cam\\\\upper2_cam_test.mp4'\n",
    "out = cv2.VideoWriter(filename, fourcc, fps, (width, height),channels)\n",
    "filename = 'C:\\\\Users\\\\Brian\\\\Videos\\\\dual_cam\\\\lower2_cam_test.mp4'\n",
    "out1 = cv2.VideoWriter(filename, fourcc, fps, (width, height),channels)\n",
    "# loop over the frames of the video\n",
    "while True:\n",
    "    frame0 = vs0.read()\n",
    "    frame1 = vs1.read()\n",
    "    frame2 = vs2.read()\n",
    "    frame3 = vs3.read()\n",
    "    if (frame0 is None) or (frame1 is None) or (frame2 is None) or (frame3 is None):\n",
    "        break\n",
    "#     combo= cv2.vconcat([cv2.hconcat([cv2.flip(frame0,flipCode=0), cv2.flip(frame1,flipCode=0)]),\n",
    "#                         cv2.hconcat([cv2.flip(frame2,flipCode=0), cv2.flip(frame3,flipCode=0)])])\n",
    "    combo = cv2.hconcat([cv2.flip(frame0,flipCode=0), cv2.flip(frame1,flipCode=0)])\n",
    "    combo1 = cv2.hconcat([cv2.flip(frame2,flipCode=0), cv2.flip(frame3,flipCode=0)])\n",
    "    \n",
    "    if grayscale:\n",
    "        combo = cv2.cvtColor(combo, cv2.COLOR_BGR2GRAY)\n",
    "        combo1 = cv2.cvtColor(combo1, cv2.COLOR_BGR2GRAY)\n",
    "   \n",
    "    cv2.imshow(\"Camera 0 & 1\", combo)\n",
    "    cv2.imshow(\"Camera 2 & 3\", combo1)\n",
    "    \n",
    "    out.write(combo)\n",
    "    out1.write(combo1)\n",
    "    key = cv2.waitKey(1) & 0xFF\n",
    "\n",
    "    if key == ord(\"q\"):\n",
    "        break\n",
    "\n",
    "# cleanup the camera and close any open windows\n",
    "vs0.stop()\n",
    "vs1.stop()\n",
    "vs2.stop()\n",
    "vs3.stop()\n",
    "out and out.release()\n",
    "out1 and out1.release()\n",
    "cv2.destroyAllWindows()"
   ]
  },
  {
   "cell_type": "code",
   "execution_count": 17,
   "id": "d4e7a786",
   "metadata": {},
   "outputs": [],
   "source": [
    "out and out.release()\n",
    "out1 and out1.release()\n",
    "cv2.destroyAllWindows()"
   ]
  }
 ],
 "metadata": {
  "kernelspec": {
   "display_name": "Python 3",
   "language": "python",
   "name": "python3"
  },
  "language_info": {
   "codemirror_mode": {
    "name": "ipython",
    "version": 3
   },
   "file_extension": ".py",
   "mimetype": "text/x-python",
   "name": "python",
   "nbconvert_exporter": "python",
   "pygments_lexer": "ipython3",
   "version": "3.9.2"
  }
 },
 "nbformat": 4,
 "nbformat_minor": 5
}
